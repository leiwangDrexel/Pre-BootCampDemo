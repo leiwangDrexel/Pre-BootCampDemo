{
 "cells": [
  {
   "cell_type": "markdown",
   "metadata": {},
   "source": [
    "### Loop: Print string in reverse order\n",
    "\n",
    "Write a program that takes in a line of text as input, and outputs that line of text in reverse. The program repeats, ending when the user enters \"Quit\", \"quit\" for the line of text."
   ]
  },
  {
   "cell_type": "code",
   "execution_count": null,
   "metadata": {},
   "outputs": [],
   "source": [
    "# get user input\n",
    "user_type = input()\n",
    "\n",
    "# start your code here using loop\n"
   ]
  },
  {
   "cell_type": "markdown",
   "metadata": {},
   "source": [
    "### Conditional Branching: Largest number\n",
    "\n",
    "Write a program whose inputs are three integers, and whose output is the largest of the three values."
   ]
  },
  {
   "cell_type": "code",
   "execution_count": null,
   "metadata": {},
   "outputs": [],
   "source": [
    "# receive user input\n",
    "num1 = int(input())\n",
    "num2 = int(input())\n",
    "num3 = int(input())\n",
    "\n",
    "# start your code here\n"
   ]
  },
  {
   "cell_type": "markdown",
   "metadata": {},
   "source": [
    "### Function: Convert to binary\n",
    "\n",
    "Write a program that takes in a positive integer as input, and outputs a string of 1's and 0's representing the integer in binary. For an integer x, the algorithm is:\n",
    "\n",
    "`As long as x is greater than 0\n",
    "   Output x % 2 (remainder is either 0 or 1)\n",
    "   x = x // 2`\n",
    "\n",
    "Note: The above algorithm outputs the 0's and 1's in reverse order. You will need to write a second function to reverse the string.\n",
    "\n",
    "> * Example input: 6\n",
    "> * Example output: 110\n",
    "\n",
    "Your program must define and call the following two functions. The function `integer_to_reverse_binary()` should return a string of 1's and 0's representing the integer in binary (in reverse). \n",
    "`The function reverse_string()` should return a string representing the input string in reverse.\n"
   ]
  },
  {
   "cell_type": "code",
   "execution_count": null,
   "metadata": {},
   "outputs": [],
   "source": [
    "def integer_to_reverse_binary(x):\n",
    "    # start your code here\n",
    "    \n",
    "    \n",
    "\n",
    "def reverse_string(s):\n",
    "    # start your code here\n",
    "    \n"
   ]
  },
  {
   "cell_type": "code",
   "execution_count": null,
   "metadata": {},
   "outputs": [],
   "source": [
    "# verify code output\n",
    "integer_value = int(input())\n",
    "input_string = integer_to_reverse_binary(integer_value)\n",
    "print(reverse_string(input_string))"
   ]
  },
  {
   "cell_type": "markdown",
   "metadata": {},
   "source": [
    "### Function: Even/odd values in a list\n",
    "\n",
    "Write a program that reads a list of integers, and outputs whether the list contains all even numbers, odd numbers, or neither. The input begins with an integer indicating the number of integers that follow.\n",
    "\n",
    "Your program must define and call the following two functions. `is_list_even()` returns true if all integers in the list are even and false otherwise. `is_list_odd()` returns true if all integers in the list are odd and false otherwise.\n",
    "\n",
    "> * Input 1:\n",
    "5\n",
    "2\n",
    "4\n",
    "6\n",
    "8\n",
    "10\n",
    "> * Output 1: all even\n",
    "\n",
    "> * Input 2:\n",
    "5\n",
    "1\n",
    "3\n",
    "5\n",
    "7\n",
    "9\n",
    "> * Output 1: all odd\n",
    "\n",
    "> * Input 3:\n",
    "5\n",
    "1\n",
    "2\n",
    "3\n",
    "4\n",
    "5\n",
    "> * Output 3:not even or odd"
   ]
  },
  {
   "cell_type": "code",
   "execution_count": null,
   "metadata": {},
   "outputs": [],
   "source": [
    "def is_list_even(my_list):\n",
    "    # start your code here\n",
    "    \n",
    "   \n",
    "def is_list_odd(my_list):\n",
    "    # start your code here\n",
    "    "
   ]
  },
  {
   "cell_type": "code",
   "execution_count": null,
   "metadata": {},
   "outputs": [],
   "source": [
    "# verify code output\n",
    "num_vals = int(input())\n",
    "input_list = [ ]\n",
    "    \n",
    "for i in range(num_vals):\n",
    "    input_list.append(input())\n",
    "        \n",
    "if(is_list_even(input_list)):\n",
    "    print ('all even')\n",
    "elif (is_list_odd(input_list)):\n",
    "    print ('all odd')\n",
    "else:\n",
    "    print ('not even or odd')"
   ]
  },
  {
   "cell_type": "code",
   "execution_count": null,
   "metadata": {},
   "outputs": [],
   "source": []
  }
 ],
 "metadata": {
  "kernelspec": {
   "display_name": "Python 3",
   "language": "python",
   "name": "python3"
  },
  "language_info": {
   "codemirror_mode": {
    "name": "ipython",
    "version": 3
   },
   "file_extension": ".py",
   "mimetype": "text/x-python",
   "name": "python",
   "nbconvert_exporter": "python",
   "pygments_lexer": "ipython3",
   "version": "3.8.6"
  }
 },
 "nbformat": 4,
 "nbformat_minor": 4
}
